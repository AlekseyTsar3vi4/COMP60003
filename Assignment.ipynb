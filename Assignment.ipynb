{
  "nbformat": 4,
  "nbformat_minor": 0,
  "metadata": {
    "colab": {
      "provenance": [],
      "authorship_tag": "ABX9TyND9f1PuJ7zJexkdYlECg6R",
      "include_colab_link": true
    },
    "kernelspec": {
      "name": "python3",
      "display_name": "Python 3"
    },
    "language_info": {
      "name": "python"
    }
  },
  "cells": [
    {
      "cell_type": "markdown",
      "metadata": {
        "id": "view-in-github",
        "colab_type": "text"
      },
      "source": [
        "<a href=\"https://colab.research.google.com/github/AlekseyTsar3vi4/COMP60003/blob/main/Assignment.ipynb\" target=\"_parent\"><img src=\"https://colab.research.google.com/assets/colab-badge.svg\" alt=\"Open In Colab\"/></a>"
      ]
    },
    {
      "cell_type": "code",
      "execution_count": 3,
      "metadata": {
        "id": "lyJrwgydSbzM"
      },
      "outputs": [],
      "source": []
    },
    {
      "cell_type": "markdown",
      "source": [
        "# Task: to create a synthetic (artificially generated) dataset that simulates 1,500 authentication requests from 50 different computers on campus over a 24-hour period.\n",
        "\n",
        "**Dataset Structure:**\n",
        "\n",
        "You’ll have **5 columns** (features) that **hold information** about each authentication request:\n",
        "\n",
        "\n",
        "*   **Username:** This will be a unique identifier for each user, with a format that includes a five-character string (a letter followed by a birth year).\n",
        "*   **Computer ID:** A unique identifier for each computer, consisting of two letters followed by two numbers.\n",
        "* **Connection Time:** The specific time of each request within the 24-hour period (from midnight to just before midnight the next day).\n",
        "* **IP Address:** The IP address from which the request originated.\n",
        "* **Labels**\n",
        "\n",
        "**Labels (Target Column):**\n",
        "\n",
        "There’s a target column with two possible labels:\n",
        "A (Accept) and D (Deny). These indicate whether the authentication request was approved or denied.\n",
        "These labels need to be **assigned randomly based on a normal distribution** (this means \"A\" and \"D\" should appear in a naturally varied but balanced way across the dataset).\n",
        "Dataset Constraints:\n",
        "\n",
        "The system has 200 unique users and 50 unique computers.\n",
        "You’ll generate a total of 1,500 requests over the 24-hour period.\n",
        "\n",
        "**In Summary:**\n",
        "The task is to use different methods for generating sample values (like random distributions) to simulate a realistic set of authentication requests:\n",
        "random usernames, computer IDs, connection times, and IP addresses.\n",
        "Randomly assign \"Accept\" or \"Deny\" labels to these requests based on a normal distribution."
      ],
      "metadata": {
        "id": "c_j37i7kS-Q_"
      }
    },
    {
      "cell_type": "markdown",
      "source": [],
      "metadata": {
        "id": "aTuP-cqIXYdt"
      }
    },
    {
      "cell_type": "code",
      "source": [],
      "metadata": {
        "id": "u88DJKqMUWlH"
      },
      "execution_count": 3,
      "outputs": []
    },
    {
      "cell_type": "markdown",
      "source": [],
      "metadata": {
        "id": "5JWcSz7bXFC-"
      }
    },
    {
      "cell_type": "code",
      "source": [],
      "metadata": {
        "id": "gNuFB4AeXGo_"
      },
      "execution_count": 3,
      "outputs": []
    },
    {
      "cell_type": "markdown",
      "source": [
        "**Step 1:** Set Up Environment and Libraries"
      ],
      "metadata": {
        "id": "UISZRFlvq0kg"
      }
    },
    {
      "cell_type": "code",
      "source": [
        "import pandas as pd\n",
        "import numpy as np\n",
        "from scipy.stats import poisson, binom, norm\n",
        "from datetime import timedelta, datetime\n",
        "import random"
      ],
      "metadata": {
        "id": "KEZ4nR8Kq8KS"
      },
      "execution_count": 4,
      "outputs": []
    },
    {
      "cell_type": "markdown",
      "source": [
        "**Step 2:** Generate Features Based on Distributions"
      ],
      "metadata": {
        "id": "40MVh_0-rFeI"
      }
    },
    {
      "cell_type": "markdown",
      "source": [
        "**1. Username** - Uniform Distribution\n",
        "\n",
        "We will generate 200 usernames that start with a random letter (A-Z) followed by a birth year (Range: 1980-2005).\n",
        "\n",
        "We will then normalise usernames if needed for consistency or patterning using a combination of transformations, such as standardisation."
      ],
      "metadata": {
        "id": "EZJBVZdprLG3"
      }
    },
    {
      "cell_type": "code",
      "source": [
        "# Setting Parameters\n",
        "num_users = 200\n",
        "num_requests = 1500\n",
        "\n",
        "# Generate usernames\n",
        "def generate_username():\n",
        "    letter = chr(random.randint(65, 90))  # Random uppercase letter\n",
        "    year = random.randint(1980, 2005)  # Random year\n",
        "    return f\"{letter}{year}\"\n",
        "\n",
        "usernames = [generate_username() for _ in range(num_requests)]"
      ],
      "metadata": {
        "id": "5MOP79Zksd7N"
      },
      "execution_count": 5,
      "outputs": []
    },
    {
      "cell_type": "markdown",
      "source": [
        "**2. Computer ID** - Binomial Distribution\n",
        "\n",
        "Computer IDs have discrete values (two letters + two digits) and are selected from the 50 unique options, making binomial distribution ideal to simulate computer IDs used multiple times in varied combinations.\n",
        "\n",
        "We can also use feature encoding if needed, such as One-Hot Encoding, especially if treating Computer ID as a categorical variable in model training​.\n",
        "\n",
        "We will generate computer IDs from a set of 50 unique IDs, with each ID comprising two letters and two digits:"
      ],
      "metadata": {
        "id": "f7KtCsnWs7s7"
      }
    },
    {
      "cell_type": "code",
      "source": [
        "# Generate a set of 50 unique computer IDs\n",
        "unique_computers = [f\"{chr(random.randint(65, 90))}{chr(random.randint(65, 90))}{str(random.randint(0, 9))}{str(random.randint(0, 9))}\" for _ in range(50)]\n",
        "computers = [random.choice(unique_computers) for _ in range(num_requests)]"
      ],
      "metadata": {
        "id": "xo5JkizLt8xI"
      },
      "execution_count": 6,
      "outputs": []
    },
    {
      "cell_type": "markdown",
      "source": [
        "**3. Connection Time** - Exponential Distribution\n",
        "\n",
        "The exponential distribution can simulate connection times, with requests clustering around certain times (e.g., busier login times in the morning or afternoon).\n",
        "\n",
        "To handle potential outliers, apply a binning technique (e.g., Equal-Width Binning) to group times into intervals (e.g., every 15 minutes) for further analysis\n",
        "\n",
        "We will generate times within a 24-hour period, clustering around certain times:"
      ],
      "metadata": {
        "id": "BrQOkL73uqkP"
      }
    },
    {
      "cell_type": "code",
      "source": [
        "# Generate connection times using exponential distribution\n",
        "def generate_connection_time():\n",
        "    seconds_in_day = 24 * 60 * 60\n",
        "    random_time = int(np.random.exponential(scale=seconds_in_day / 10)) % seconds_in_day  # Scale to fit within a day\n",
        "    return (datetime.min + timedelta(seconds=random_time)).time()\n",
        "\n",
        "connection_times = [generate_connection_time() for _ in range(num_requests)]"
      ],
      "metadata": {
        "id": "hMiRI7ECvB4m"
      },
      "execution_count": 7,
      "outputs": []
    },
    {
      "cell_type": "markdown",
      "source": [
        "**4. IP Address** - Poisson Distribution\n",
        "\n",
        "The Poisson distribution models the frequency of IP address occurrences, which might cluster in certain ranges due to subnet allocation (common in closed environments like campuses).\n",
        "\n",
        "For pattern consistency, we can normalise the IP range or aggregate similar IPs to analyse subnet clusters or hotspot IPs, using data transformation methods like standardisation​.\n",
        "\n",
        "We will generate IP addresses as a four octet values with a Poisson rate parameter suitable for a subnet (e.g., λ=5):"
      ],
      "metadata": {
        "id": "zL6GfIzgvNE2"
      }
    },
    {
      "cell_type": "code",
      "source": [
        "# Generate IP addresses\n",
        "def generate_ip_address():\n",
        "    return \".\".join(str(poisson.rvs(50)) for _ in range(4))  # λ=50 for moderate clustering\n",
        "\n",
        "ip_addresses = [generate_ip_address() for _ in range(num_requests)]"
      ],
      "metadata": {
        "id": "W4RjJLsJrIeF"
      },
      "execution_count": 8,
      "outputs": []
    },
    {
      "cell_type": "markdown",
      "source": [
        "**5. Target Label (A/D)** - Normal Distribution\n",
        "\n",
        "A normal distribution will help assign labels randomly yet balanced, so that \"Accept\" and \"Deny\" labels vary naturally around a mean. To achieve approximately equal distribution we will set a mean of 0.5 (if we consider “Accept” as 1 and “Deny” as 0) and adjust the standard deviation.\n",
        "\n",
        "To confirm the label assignment’s statistical balance, apply a chi-square test on the label frequency to verify randomness and balance​\n",
        "\n",
        "We will randomly assign \"A\" or \"D\" labels based on a normal distribution:"
      ],
      "metadata": {
        "id": "haz17jrvv_QA"
      }
    },
    {
      "cell_type": "code",
      "source": [
        "# Generate target labels using normal distribution\n",
        "def generate_label():\n",
        "    return \"A\" if norm.rvs(loc=0.5, scale=0.1) > 0.5 else \"D\"\n",
        "\n",
        "labels = [generate_label() for _ in range(num_requests)]"
      ],
      "metadata": {
        "id": "ZwIdfrKcw_x1"
      },
      "execution_count": 9,
      "outputs": []
    },
    {
      "cell_type": "markdown",
      "source": [
        "**Step 3:** Creating a DataFrame"
      ],
      "metadata": {
        "id": "R7ED1PANxDRM"
      }
    },
    {
      "cell_type": "code",
      "source": [
        "# Combine all features into a DataFrame\n",
        "df = pd.DataFrame({\n",
        "    'Username': usernames,\n",
        "    'Computer ID': computers,\n",
        "    'Connection Time': connection_times,\n",
        "    'IP Address': ip_addresses,\n",
        "    'Label': labels\n",
        "})\n",
        "\n",
        "# Display a sample of the dataset\n",
        "print(df.head())"
      ],
      "metadata": {
        "colab": {
          "base_uri": "https://localhost:8080/"
        },
        "id": "ASWP6omexVA3",
        "outputId": "3219a9b2-b9f1-4e65-9438-ac74d1bbe4f2"
      },
      "execution_count": 10,
      "outputs": [
        {
          "output_type": "stream",
          "name": "stdout",
          "text": [
            "  Username Computer ID Connection Time   IP Address Label\n",
            "0    D1986        WH78        15:01:41  53.48.54.51     A\n",
            "1    S1985        ZG92        00:06:37  43.53.57.49     A\n",
            "2    L2004        JQ03        01:36:16  57.48.45.45     A\n",
            "3    K1989        OU14        01:42:35  50.59.41.58     A\n",
            "4    D2005        AE81        05:42:29  49.49.46.52     A\n"
          ]
        }
      ]
    },
    {
      "cell_type": "markdown",
      "source": [
        "**Step 4:** Export Dataset as a *.csv* file"
      ],
      "metadata": {
        "id": "hr_SNp3cxWFQ"
      }
    },
    {
      "cell_type": "code",
      "source": [
        "# Save to CSV\n",
        "df.to_csv('synthetic_authentication_data.csv', index=False)\n",
        "print(\"Dataset saved as synthetic_authentication_data.csv\")"
      ],
      "metadata": {
        "colab": {
          "base_uri": "https://localhost:8080/"
        },
        "id": "_18Wfvurxhln",
        "outputId": "39ac5f0b-04d6-4e56-cdb1-ecb303f5b865"
      },
      "execution_count": 11,
      "outputs": [
        {
          "output_type": "stream",
          "name": "stdout",
          "text": [
            "Dataset saved as synthetic_authentication_data.csv\n"
          ]
        }
      ]
    }
  ]
}